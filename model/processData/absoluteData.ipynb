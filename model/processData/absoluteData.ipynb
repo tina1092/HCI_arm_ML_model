{
 "cells": [
  {
   "cell_type": "code",
   "execution_count": 3,
   "metadata": {},
   "outputs": [],
   "source": [
    "import numpy as np\n",
    "import os"
   ]
  },
  {
   "cell_type": "code",
   "execution_count": 6,
   "metadata": {},
   "outputs": [
    {
     "name": "stdout",
     "output_type": "stream",
     "text": [
      "False\n",
      "False\n",
      "False\n",
      "False\n",
      "False\n",
      "False\n",
      "False\n",
      "False\n",
      "False\n"
     ]
    }
   ],
   "source": [
    "for data_index in range(1, 10):\n",
    "    dataset_path = f\"../../dataset/dataset_0725/p{data_index}\"\n",
    "    os.makedirs(dataset_path, exist_ok=True)\n",
    "\n",
    "    # 加载数据\n",
    "    X_train = np.load(f'{dataset_path}/X_train.npy')\n",
    "    y_train = np.load(f'{dataset_path}/y_train.npy').astype(float).flatten()\n",
    "    X_val = np.load(f'{dataset_path}/X_val.npy')\n",
    "    y_val = np.load(f'{dataset_path}/y_val.npy').astype(float).flatten()\n",
    "    X_test = np.load(f'{dataset_path}/X_test.npy')\n",
    "    y_test = np.load(f'{dataset_path}/y_test.npy').astype(float).flatten()\n",
    "\n",
    "    print(np.any(X_train < 0))"
   ]
  },
  {
   "cell_type": "code",
   "execution_count": null,
   "metadata": {},
   "outputs": [],
   "source": []
  }
 ],
 "metadata": {
  "kernelspec": {
   "display_name": "base",
   "language": "python",
   "name": "python3"
  },
  "language_info": {
   "codemirror_mode": {
    "name": "ipython",
    "version": 3
   },
   "file_extension": ".py",
   "mimetype": "text/x-python",
   "name": "python",
   "nbconvert_exporter": "python",
   "pygments_lexer": "ipython3",
   "version": "3.11.4"
  }
 },
 "nbformat": 4,
 "nbformat_minor": 2
}
